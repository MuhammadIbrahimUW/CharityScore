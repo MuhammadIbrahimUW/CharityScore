{
 "cells": [
  {
   "cell_type": "markdown",
   "metadata": {},
   "source": [
    "Web Scrapping charitydata.ca to get data for visualization"
   ]
  },
  {
   "cell_type": "code",
   "execution_count": 6,
   "metadata": {},
   "outputs": [],
   "source": [
    "# Install selenium and associated libraries\r\n",
    "# pip install selenium\r\n",
    "from selenium import webdriver\r\n",
    "from selenium.webdriver.common.by import By\r\n",
    "from selenium.webdriver.support.ui import WebDriverWait, Select\r\n",
    "from selenium.webdriver.support import expected_conditions as EC\r\n",
    "from selenium.common.exceptions import TimeoutException\r\n",
    "\r\n"
   ]
  }
 ],
 "metadata": {
  "kernelspec": {
   "display_name": "Python 3.9.2 64-bit",
   "name": "python392jvsc74a57bd040d2f730733a80f83d53f98f745753626462df12ba5bb8ea1903cd5067e7ead1"
  },
  "language_info": {
   "codemirror_mode": {
    "name": "ipython",
    "version": 3
   },
   "file_extension": ".py",
   "mimetype": "text/x-python",
   "name": "python",
   "nbconvert_exporter": "python",
   "pygments_lexer": "ipython3",
   "version": "3.9.2"
  },
  "metadata": {
   "interpreter": {
    "hash": "40d2f730733a80f83d53f98f745753626462df12ba5bb8ea1903cd5067e7ead1"
   }
  },
  "orig_nbformat": 2
 },
 "nbformat": 4,
 "nbformat_minor": 2
}