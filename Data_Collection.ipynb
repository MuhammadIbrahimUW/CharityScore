{
 "cells": [
  {
   "cell_type": "markdown",
   "metadata": {},
   "source": [
    "# Using Selenium in Chrome to scrape relevant charity data from charitydata.ca (collected from T3010s submitted to the CRA) "
   ]
  },
  {
   "cell_type": "code",
   "execution_count": 1,
   "metadata": {},
   "outputs": [],
   "source": [
    "#importing required libraries and setting the driver path\n",
    "import pandas as pd\n",
    "from selenium import webdriver\n",
    "from selenium.webdriver.common.keys import Keys\n",
    "from selenium.webdriver.common.by import By\n",
    "from selenium.webdriver.support.ui import WebDriverWait\n",
    "from selenium.webdriver.support import expected_conditions as EC\n",
    "from bs4 import BeautifulSoup\n",
    "\n",
    "\n",
    "driver_path = \"C:/Users/16475/Documents/GitHub/CharityVizApp/chromedriver.exe\"\n",
    "driver = webdriver.Chrome(executable_path=driver_path)"
   ]
  },
  {
   "cell_type": "code",
   "execution_count": 2,
   "metadata": {},
   "outputs": [
    {
     "name": "stdout",
     "output_type": "stream",
     "text": [
      "                                                 URL       Name  \\\n",
      "0  https://www.charitydata.ca/charity/full-name/0...  full name   \n",
      "\n",
      "               BRN  \n",
      "0  000000000000001  \n"
     ]
    }
   ],
   "source": [
    "#create base dataframe\n",
    "test_url = \"https://www.charitydata.ca/charity/full-name/000000000000001\"\n",
    "full_name = ' '.join(test_url.split(\"/\")[4].split(\"-\"))\n",
    "brn = test_url.split(\"/\")[5]\n",
    "df = pd.DataFrame([[test_url,full_name,brn]], columns=['URL',\"Name\",\"BRN\"])\n",
    "print(df)"
   ]
  },
  {
   "cell_type": "code",
   "execution_count": 3,
   "metadata": {},
   "outputs": [
    {
     "name": "stdout",
     "output_type": "stream",
     "text": [
      "done\n"
     ]
    }
   ],
   "source": [
    "#script for going to charitydata.ca and parsing data into a dataframe\n",
    "\n",
    "\n",
    "\n",
    "#open index with all charities\n",
    "base_url = \"https://www.charitydata.ca/index/\"\n",
    "driver.get(base_url)\n",
    "\n",
    "\n",
    "# list of urls that should be excluded\n",
    "exclusions = open(\"url exclusions.txt\").read().splitlines()\n",
    "\n",
    "#compile list of charity urls (each url page has that charities information)\n",
    "#there are 3364 pages of charity urls so this is the number of iterations\n",
    "for i in range(2,3365):\n",
    "    #the 'a' tag is given to each URL in the HTML source, find all the tags\n",
    "    link_objects = driver.find_elements_by_tag_name(\"a\")\n",
    "    \n",
    "    #the href attribute pulls just the URL, instead of the all associated HTML syntax elements\n",
    "    for x in link_objects:\n",
    "        #charity specific url\n",
    "        charity_url = x.get_attribute(\"href\")\n",
    "        \n",
    "        if charity_url not in exclusions and len(charity_url) > 0 and charity_url[:5]==\"https\":\n",
    "            full_name = ' '.join(charity_url.split(\"/\")[4].split(\"-\"))\n",
    "            brn = charity_url.split(\"/\")[5]\n",
    "            df = df.append({\"URL\": charity_url, \"Name\": full_name, \"BRN\": brn}, ignore_index=True)\n",
    "    \n",
    "    driver.get(base_url + str(i))\n",
    "\n",
    "driver.quit()\n",
    "df.to_csv(\"data.csv\")\n",
    "print(\"done\")\n"
   ]
  },
  {
   "cell_type": "code",
   "execution_count": null,
   "metadata": {},
   "outputs": [],
   "source": []
  }
 ],
 "metadata": {
  "kernelspec": {
   "display_name": "Python 3",
   "language": "python",
   "name": "python3"
  },
  "language_info": {
   "codemirror_mode": {
    "name": "ipython",
    "version": 3
   },
   "file_extension": ".py",
   "mimetype": "text/x-python",
   "name": "python",
   "nbconvert_exporter": "python",
   "pygments_lexer": "ipython3",
   "version": "3.8.5"
  }
 },
 "nbformat": 4,
 "nbformat_minor": 4
}
