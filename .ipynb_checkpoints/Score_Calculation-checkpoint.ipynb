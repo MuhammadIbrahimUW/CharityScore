{
 "cells": [
  {
   "cell_type": "markdown",
   "metadata": {},
   "source": [
    "# Calculating Charity Scores from relevant charity data on charitydata.ca (using dataframe from Data_Collection.ipyntb)"
   ]
  },
  {
   "cell_type": "code",
   "execution_count": 174,
   "metadata": {},
   "outputs": [],
   "source": [
    "#importing required libraries and setting the driver path\n",
    "import pandas as pd\n",
    "import json\n",
    "from selenium import webdriver\n",
    "from selenium.webdriver.common.keys import Keys\n",
    "from selenium.webdriver.common.by import By\n",
    "from selenium.webdriver.support.ui import WebDriverWait\n",
    "from selenium.webdriver.support import expected_conditions as EC\n",
    "from selenium.webdriver.common.action_chains import ActionChains\n",
    "from selenium.webdriver.common.desired_capabilities import DesiredCapabilities\n",
    "\n",
    "driver_path = \"C:/Users/16475/Documents/GitHub/CharityScore.ca/chromedriver.exe\"\n",
    "driver = webdriver.Chrome(executable_path=driver_path)"
   ]
  },
  {
   "cell_type": "code",
   "execution_count": 175,
   "metadata": {},
   "outputs": [
    {
     "name": "stdout",
     "output_type": "stream",
     "text": [
      "{'Expenditures by 6 Groups': [2020, 2019, 2018, 2017, 2016, 2015, 2014, 2013, 2012, 2011, 2010, 2009, 2008, 2007, 2006, 2005, 2004, 2003], '(a) Total expenditures on charitable activities ($)': [75367, 91549, 80577, 78587, 78654, 82129, 96162, 99835, 0, 90861, 62563, 56634, 65860, 52684, 28982, 30674, 0, 0], '(b) Total expenditures on management and administration ($)': [1895, 1942, 1580, 1433, 1246, 1338, 971, 0, 131, 850, 794, 664, 611, 583, 0, 0, 0, 0], '(c) Total expenditures on fundraising ($)': [0, 0, 0, 0, 0, 0, 0, 0, 0, 0, 0, 0, 0, 0, 0, 0, 0, 0], '(d) Total expenditures on political activities, inside or outside Canada ($)': [0, 0, 0, 0, 0, 0, 0, 0, 0, 0, 0, 0, 0, 0, 0, 0, 0, 0], '(e) Total other expenditures included in line 4950 ($)': [0, 0, 0, 0, 0, 0, 0, 0, 110152, 0, 0, 0, 0, 0, 0, 0, 0, 0], 'Total amount of gifts made to all qualified donees ($)': [0, 0, 0, 0, 0, 0, 0, 0, 0, 0, 0, 0, 0, 0, 0, 0, 0, 0], 'Total expenditures ($)': [77309, 93491, 82157, 80020, 79900, 83467, 97133, 101141, 110283, 91711, 63357, 57297, 66471, 53267, 28982, 30674, 0, 18835]}\n"
     ]
    }
   ],
   "source": [
    "#import the url data from the dataframe\n",
    "df = pd.read_csv(\"data.csv\")\n",
    "df = pd.read_csv(\"data.csv\").drop(['Unnamed: 0'],axis=1)\n",
    "\n",
    "for i in range(1,2):\n",
    "    driver.get(df.loc[i,\"URL\"])\n",
    "    \n",
    "    # open expense table \n",
    "    WebDriverWait(driver, 5).until(EC.presence_of_element_located((By.LINK_TEXT, 'Expenses'))).click()\n",
    "    expense_table = driver.find_element_by_xpath('//html/body/main/div/section[3]/div/div[2]/div[4]/div[2]/table[1]')\n",
    "    \n",
    "    # create dictionary representation of expense table\n",
    "    expense_dict = {}\n",
    "    \n",
    "    expense_rows = expense_table.find_elements(By.TAG_NAME, \"tr\")\n",
    "    header_row = expense_rows.pop(0)\n",
    "    \n",
    "    headers = header_row.find_elements(By.TAG_NAME, \"th\")\n",
    "    header_key = headers.pop(0)\n",
    "    headers = list(map(lambda x: int(x.text), headers))\n",
    "    \n",
    "    expense_dict[header_key.text] = headers\n",
    "    \n",
    "    for row in expense_rows:\n",
    "        row_key = row.find_element(By.TAG_NAME, \"th\").text\n",
    "        row_series = row.find_elements(By.TAG_NAME, \"td\")\n",
    "        num_list = []\n",
    "        for num in row_series:\n",
    "            num_list +=[int(num.text.replace(\",\",\"\"))]\n",
    "        \n",
    "        expense_dict[row_key] = num_list\n",
    "    \n",
    "  # dict_df = pd.DataFrame(expense_dict.values(), columns = expense_dict.keys())\n",
    "    print(expense_dict)\n",
    "    \n",
    "    \n",
    "    "
   ]
  },
  {
   "cell_type": "code",
   "execution_count": null,
   "metadata": {},
   "outputs": [],
   "source": []
  }
 ],
 "metadata": {
  "kernelspec": {
   "display_name": "Python 3",
   "language": "python",
   "name": "python3"
  },
  "language_info": {
   "codemirror_mode": {
    "name": "ipython",
    "version": 3
   },
   "file_extension": ".py",
   "mimetype": "text/x-python",
   "name": "python",
   "nbconvert_exporter": "python",
   "pygments_lexer": "ipython3",
   "version": "3.8.5"
  }
 },
 "nbformat": 4,
 "nbformat_minor": 4
}
