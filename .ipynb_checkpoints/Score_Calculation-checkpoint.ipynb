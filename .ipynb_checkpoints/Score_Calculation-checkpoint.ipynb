{
 "cells": [
  {
   "cell_type": "markdown",
   "metadata": {},
   "source": [
    "# Calculating Charity Scores from relevant charity data on charitydata.ca (using dataframe from Data_Collection.ipyntb)"
   ]
  },
  {
   "cell_type": "code",
   "execution_count": 69,
   "metadata": {},
   "outputs": [],
   "source": [
    "#importing required libraries and setting the driver path\n",
    "import pandas as pd\n",
    "import numpy as np\n",
    "import json\n",
    "from selenium import webdriver\n",
    "from selenium.webdriver.common.keys import Keys\n",
    "from selenium.webdriver.common.by import By\n",
    "from selenium.webdriver.support.ui import WebDriverWait\n",
    "from selenium.webdriver.support import expected_conditions as EC\n",
    "from selenium.webdriver.common.action_chains import ActionChains\n",
    "from selenium.webdriver.common.desired_capabilities import DesiredCapabilities\n",
    "from selenium.common.exceptions import NoSuchElementException\n",
    "\n",
    "driver_path = \"C:/Users/16475/Documents/GitHub/CharityScore.ca/chromedriver.exe\"\n",
    "driver = webdriver.Chrome(executable_path=driver_path)"
   ]
  },
  {
   "cell_type": "code",
   "execution_count": 70,
   "metadata": {},
   "outputs": [
    {
     "name": "stdout",
     "output_type": "stream",
     "text": [
      "                                                 URL       Name  \\\n",
      "0  https://www.charitydata.ca/charity/full-name/0...  full name   \n",
      "\n",
      "               BRN  Expense Table Expense_Table  Expense Table.1  \\\n",
      "0  000000000000001            NaN           NaN              NaN   \n",
      "\n",
      "   Expense Table  \n",
      "0            NaN  \n"
     ]
    }
   ],
   "source": [
    "# import the url data from the dataframe\n",
    "df = pd.read_csv(\"expense data.csv\")\n",
    "\n",
    "# remove duplicate index column\n",
    "df = pd.read_csv(\"expense data.csv\").drop(['Unnamed: 0'],axis=1)\n",
    "\n",
    "# re-index to add new column\n",
    "df = df.reindex(df.columns.tolist() + ['Expense Table'], axis=1)\n",
    "\n",
    "print(df.head(1))"
   ]
  },
  {
   "cell_type": "code",
   "execution_count": 71,
   "metadata": {},
   "outputs": [
    {
     "ename": "TimeoutException",
     "evalue": "Message: \n",
     "output_type": "error",
     "traceback": [
      "\u001b[1;31m---------------------------------------------------------------------------\u001b[0m",
      "\u001b[1;31mTimeoutException\u001b[0m                          Traceback (most recent call last)",
      "\u001b[1;32m<ipython-input-71-8645b923d61f>\u001b[0m in \u001b[0;36m<module>\u001b[1;34m\u001b[0m\n\u001b[0;32m     14\u001b[0m \u001b[1;33m\u001b[0m\u001b[0m\n\u001b[0;32m     15\u001b[0m     \u001b[1;31m# open expense table\u001b[0m\u001b[1;33m\u001b[0m\u001b[1;33m\u001b[0m\u001b[1;33m\u001b[0m\u001b[0m\n\u001b[1;32m---> 16\u001b[1;33m     \u001b[0mWebDriverWait\u001b[0m\u001b[1;33m(\u001b[0m\u001b[0mdriver\u001b[0m\u001b[1;33m,\u001b[0m \u001b[1;36m15\u001b[0m\u001b[1;33m)\u001b[0m\u001b[1;33m.\u001b[0m\u001b[0muntil\u001b[0m\u001b[1;33m(\u001b[0m\u001b[0mEC\u001b[0m\u001b[1;33m.\u001b[0m\u001b[0mpresence_of_element_located\u001b[0m\u001b[1;33m(\u001b[0m\u001b[1;33m(\u001b[0m\u001b[0mBy\u001b[0m\u001b[1;33m.\u001b[0m\u001b[0mLINK_TEXT\u001b[0m\u001b[1;33m,\u001b[0m \u001b[1;34m'Expenses'\u001b[0m\u001b[1;33m)\u001b[0m\u001b[1;33m)\u001b[0m\u001b[1;33m)\u001b[0m\u001b[1;33m.\u001b[0m\u001b[0mclick\u001b[0m\u001b[1;33m(\u001b[0m\u001b[1;33m)\u001b[0m\u001b[1;33m\u001b[0m\u001b[1;33m\u001b[0m\u001b[0m\n\u001b[0m\u001b[0;32m     17\u001b[0m     \u001b[0mexpense_table\u001b[0m \u001b[1;33m=\u001b[0m \u001b[0mdriver\u001b[0m\u001b[1;33m.\u001b[0m\u001b[0mfind_element_by_xpath\u001b[0m\u001b[1;33m(\u001b[0m\u001b[1;34m'//html/body/main/div/section[3]/div/div[2]/div[4]/div[2]/table[1]'\u001b[0m\u001b[1;33m)\u001b[0m\u001b[1;33m\u001b[0m\u001b[1;33m\u001b[0m\u001b[0m\n\u001b[0;32m     18\u001b[0m \u001b[1;33m\u001b[0m\u001b[0m\n",
      "\u001b[1;32mC:\\ProgramData\\Anaconda3\\lib\\site-packages\\selenium\\webdriver\\support\\wait.py\u001b[0m in \u001b[0;36muntil\u001b[1;34m(self, method, message)\u001b[0m\n\u001b[0;32m     78\u001b[0m             \u001b[1;32mif\u001b[0m \u001b[0mtime\u001b[0m\u001b[1;33m.\u001b[0m\u001b[0mtime\u001b[0m\u001b[1;33m(\u001b[0m\u001b[1;33m)\u001b[0m \u001b[1;33m>\u001b[0m \u001b[0mend_time\u001b[0m\u001b[1;33m:\u001b[0m\u001b[1;33m\u001b[0m\u001b[1;33m\u001b[0m\u001b[0m\n\u001b[0;32m     79\u001b[0m                 \u001b[1;32mbreak\u001b[0m\u001b[1;33m\u001b[0m\u001b[1;33m\u001b[0m\u001b[0m\n\u001b[1;32m---> 80\u001b[1;33m         \u001b[1;32mraise\u001b[0m \u001b[0mTimeoutException\u001b[0m\u001b[1;33m(\u001b[0m\u001b[0mmessage\u001b[0m\u001b[1;33m,\u001b[0m \u001b[0mscreen\u001b[0m\u001b[1;33m,\u001b[0m \u001b[0mstacktrace\u001b[0m\u001b[1;33m)\u001b[0m\u001b[1;33m\u001b[0m\u001b[1;33m\u001b[0m\u001b[0m\n\u001b[0m\u001b[0;32m     81\u001b[0m \u001b[1;33m\u001b[0m\u001b[0m\n\u001b[0;32m     82\u001b[0m     \u001b[1;32mdef\u001b[0m \u001b[0muntil_not\u001b[0m\u001b[1;33m(\u001b[0m\u001b[0mself\u001b[0m\u001b[1;33m,\u001b[0m \u001b[0mmethod\u001b[0m\u001b[1;33m,\u001b[0m \u001b[0mmessage\u001b[0m\u001b[1;33m=\u001b[0m\u001b[1;34m''\u001b[0m\u001b[1;33m)\u001b[0m\u001b[1;33m:\u001b[0m\u001b[1;33m\u001b[0m\u001b[1;33m\u001b[0m\u001b[0m\n",
      "\u001b[1;31mTimeoutException\u001b[0m: Message: \n"
     ]
    }
   ],
   "source": [
    "# find expense tables on charitydata.ca and add them to the dataframe as string representations of dictionaries\n",
    "\n",
    "for i in range(1, len(df)+1): \n",
    "    driver.get(df.loc[i,\"URL\"])\n",
    "    \n",
    "    # check if url page found, else skip\n",
    "    try:\n",
    "        url_check = driver.find_element_by_xpath(\"/html/body/main/div/section[2]/div/div[2]/p\").text\n",
    "    except NoSuchElementException:\n",
    "        url_check = \"\"\n",
    "    \n",
    "    if url_check == \"The requested page could not be found.\":\n",
    "        continue\n",
    "    \n",
    "    # open expense table\n",
    "    try:\n",
    "        WebDriverWait(driver, 15).until(EC.presence_of_element_located((By.LINK_TEXT, 'Expenses'))).click()\n",
    "        expense_table = driver.find_element_by_xpath('//html/body/main/div/section[3]/div/div[2]/div[4]/div[2]/table[1]')\n",
    "    except:\n",
    "        continue\n",
    "    \n",
    "    # create dictionary representation of expense table\n",
    "    expense_dict = {}\n",
    "    \n",
    "    expense_rows = expense_table.find_elements(By.TAG_NAME, \"tr\")\n",
    "    header_row = expense_rows.pop(0)\n",
    "    \n",
    "    headers = header_row.find_elements(By.TAG_NAME, \"th\")\n",
    "    header_key = headers.pop(0).text\n",
    "    headers = list(map(lambda x: int(x.text), headers))\n",
    "    expense_dict[header_key] = headers \n",
    "    \n",
    "    for row in expense_rows:\n",
    "        row_key = row.find_element(By.TAG_NAME, \"th\").text\n",
    "        row_series = row.find_elements(By.TAG_NAME, \"td\")\n",
    "        num_list = []\n",
    "        \n",
    "        for num in row_series:\n",
    "            if num.text[0] != \"(\":\n",
    "                num_list +=[int(num.text.replace(\",\",\"\"))]\n",
    "            else:\n",
    "                num_list += [int(num.text[1:-1].replace(\",\",\"\"))]\n",
    "                \n",
    "        expense_dict[row_key] = num_list\n",
    "        \n",
    "    df.loc[df.index[i], 'Expense_Table'] = str(expense_dict)\n",
    "    df.to_csv(\"expense data.csv\")\n",
    "# quit driver and export to csv  \n",
    "driver.quit()\n",
    "df.to_csv(\"expense data.csv\")\n",
    "    \n",
    "    \n",
    "    \n",
    "    "
   ]
  },
  {
   "cell_type": "code",
   "execution_count": null,
   "metadata": {},
   "outputs": [],
   "source": []
  }
 ],
 "metadata": {
  "kernelspec": {
   "display_name": "Python 3",
   "language": "python",
   "name": "python3"
  },
  "language_info": {
   "codemirror_mode": {
    "name": "ipython",
    "version": 3
   },
   "file_extension": ".py",
   "mimetype": "text/x-python",
   "name": "python",
   "nbconvert_exporter": "python",
   "pygments_lexer": "ipython3",
   "version": "3.8.5"
  }
 },
 "nbformat": 4,
 "nbformat_minor": 4
}
