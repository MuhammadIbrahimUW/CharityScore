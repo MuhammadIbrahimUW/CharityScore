{
 "cells": [
  {
   "cell_type": "markdown",
   "metadata": {},
   "source": [
    "# Using Selenium in Chrome to scrape relevant charity data from charitydata.ca (collected from T3010s submitted to the CRA)"
   ]
  },
  {
   "cell_type": "code",
   "execution_count": 82,
   "metadata": {},
   "outputs": [],
   "source": [
    "#importing required libraries and setting the driver path\n",
    "import pandas as pd\n",
    "from selenium import webdriver\n",
    "from selenium.webdriver.common.keys import Keys\n",
    "from selenium.webdriver.common.by import By\n",
    "from selenium.webdriver.support.ui import WebDriverWait\n",
    "from selenium.webdriver.support import expected_conditions as EC\n",
    "import json\n",
    "from selenium.webdriver.common.action_chains import ActionChains\n",
    "from selenium.webdriver.common.desired_capabilities import DesiredCapabilities\n",
    "\n",
    "\n",
    "driver_path = \"C:/Users/16475/Documents/GitHub/CharityScore.ca/chromedriver.exe\"\n",
    "driver = webdriver.Chrome(executable_path=driver_path)"
   ]
  },
  {
   "cell_type": "code",
   "execution_count": 83,
   "metadata": {},
   "outputs": [
    {
     "name": "stdout",
     "output_type": "stream",
     "text": [
      "<colgroup><col span=\"1\" class=\"wide\"></colgroup><thead><tr style=\"height: 32px;\"><th scope=\"col\">Expenditures by 6 Groups</th><th>2020</th><th>2019</th><th>2018</th><th>2017</th><th>2016</th><th>2015</th><th>2014</th><th>2013</th><th>2012</th><th>2011</th><th>2010</th><th>2009</th><th>2008</th><th>2007</th><th>2006</th><th>2005</th><th>2004</th><th>2003</th></tr></thead><tbody><tr style=\"height: 51px;\"><th scope=\"row\">(a) Total expenditures on charitable activities ($)</th><td class=\"num\">75,367</td><td class=\"num\">91,549</td><td class=\"num\">80,577</td><td class=\"num\">78,587</td><td class=\"num\">78,654</td><td class=\"num\">82,129</td><td class=\"num\">96,162</td><td class=\"num\">99,835</td><td class=\"num\">0</td><td class=\"num\">90,861</td><td class=\"num\">62,563</td><td class=\"num\">56,634</td><td class=\"num\">65,860</td><td class=\"num\">52,684</td><td class=\"num\">28,982</td><td class=\"num\">30,674</td><td class=\"num\">0</td><td class=\"num\">0</td></tr><tr style=\"height: 69px;\"><th scope=\"row\">(b) Total expenditures on management and administration ($)</th><td class=\"num\">1,895</td><td class=\"num\">1,942</td><td class=\"num\">1,580</td><td class=\"num\">1,433</td><td class=\"num\">1,246</td><td class=\"num\">1,338</td><td class=\"num\">971</td><td class=\"num\">0</td><td class=\"num\">131</td><td class=\"num\">850</td><td class=\"num\">794</td><td class=\"num\">664</td><td class=\"num\">611</td><td class=\"num\">583</td><td class=\"num\">0</td><td class=\"num\">0</td><td class=\"num\">0</td><td class=\"num\">0</td></tr><tr style=\"height: 51px;\"><th scope=\"row\">(c) Total expenditures on fundraising ($)</th><td class=\"num\">0</td><td class=\"num\">0</td><td class=\"num\">0</td><td class=\"num\">0</td><td class=\"num\">0</td><td class=\"num\">0</td><td class=\"num\">0</td><td class=\"num\">0</td><td class=\"num\">0</td><td class=\"num\">0</td><td class=\"num\">0</td><td class=\"num\">0</td><td class=\"num\">0</td><td class=\"num\">0</td><td class=\"num\">0</td><td class=\"num\">0</td><td class=\"num\">0</td><td class=\"num\">0</td></tr><tr style=\"height: 69px;\"><th scope=\"row\">(d) Total expenditures on political activities, inside or outside Canada ($)</th><td class=\"num\">0</td><td class=\"num\">0</td><td class=\"num\">0</td><td class=\"num\">0</td><td class=\"num\">0</td><td class=\"num\">0</td><td class=\"num\">0</td><td class=\"num\">0</td><td class=\"num\">0</td><td class=\"num\">0</td><td class=\"num\">0</td><td class=\"num\">0</td><td class=\"num\">0</td><td class=\"num\">0</td><td class=\"num\">0</td><td class=\"num\">0</td><td class=\"num\">0</td><td class=\"num\">0</td></tr><tr style=\"height: 51px;\"><th scope=\"row\">(e) Total other expenditures included in line 4950 ($)</th><td class=\"num\">0</td><td class=\"num\">0</td><td class=\"num\">0</td><td class=\"num\">0</td><td class=\"num\">0</td><td class=\"num\">0</td><td class=\"num\">0</td><td class=\"num\">0</td><td class=\"num\">110,152</td><td class=\"num\">0</td><td class=\"num\">0</td><td class=\"num\">0</td><td class=\"num\">0</td><td class=\"num\">0</td><td class=\"num\">0</td><td class=\"num\">0</td><td class=\"num\">0</td><td class=\"num\">0</td></tr><tr style=\"height: 51px;\"><th scope=\"row\">Total amount of gifts made to all qualified donees ($)</th><td class=\"num\">0</td><td class=\"num\">0</td><td class=\"num\">0</td><td class=\"num\">0</td><td class=\"num\">0</td><td class=\"num\">0</td><td class=\"num\">0</td><td class=\"num\">0</td><td class=\"num\">0</td><td class=\"num\">0</td><td class=\"num\">0</td><td class=\"num\">0</td><td class=\"num\">0</td><td class=\"num\">0</td><td class=\"num\">0</td><td class=\"num\">0</td><td class=\"num\">0</td><td class=\"num\">0</td></tr><tr style=\"height: 33px;\"><th scope=\"row\">Total expenditures ($)</th><td class=\"num\">77,309</td><td class=\"num\">93,491</td><td class=\"num\">82,157</td><td class=\"num\">80,020</td><td class=\"num\">79,900</td><td class=\"num\">83,467</td><td class=\"num\">97,133</td><td class=\"num\">101,141</td><td class=\"num\">110,283</td><td class=\"num\">91,711</td><td class=\"num\">63,357</td><td class=\"num\">57,297</td><td class=\"num\">66,471</td><td class=\"num\">53,267</td><td class=\"num\">28,982</td><td class=\"num\">30,674</td><td class=\"num\">0</td><td class=\"num\">18,835</td></tr></tbody>\n"
     ]
    }
   ],
   "source": [
    "#import the url data from the dataframe\n",
    "df = pd.read_csv(\"data.csv\")\n",
    "df = pd.read_csv(\"data.csv\").drop(['Unnamed: 0'],axis=1)\n",
    "\n",
    "for i in range(1,2):\n",
    "    driver.get(df.loc[i,\"URL\"])\n",
    "    \n",
    "    # open expense table \n",
    "    WebDriverWait(driver, 5).until(EC.presence_of_element_located((By.LINK_TEXT, 'Expenses'))).click()\n",
    "    expenses_table = driver.find_element_by_xpath('//html/body/main/div/section[3]/div/div[2]/div[4]/div[2]/table[1]')\n",
    "    print(expenses_table.get_attribute('innerHTML'))\n",
    "\n",
    "    "
   ]
  },
  {
   "cell_type": "code",
   "execution_count": null,
   "metadata": {},
   "outputs": [],
   "source": []
  }
 ],
 "metadata": {
  "kernelspec": {
   "display_name": "Python 3",
   "language": "python",
   "name": "python3"
  },
  "language_info": {
   "codemirror_mode": {
    "name": "ipython",
    "version": 3
   },
   "file_extension": ".py",
   "mimetype": "text/x-python",
   "name": "python",
   "nbconvert_exporter": "python",
   "pygments_lexer": "ipython3",
   "version": "3.8.5"
  }
 },
 "nbformat": 4,
 "nbformat_minor": 4
}
