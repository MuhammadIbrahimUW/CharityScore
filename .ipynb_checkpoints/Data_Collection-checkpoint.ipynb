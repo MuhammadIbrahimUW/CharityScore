{
 "cells": [
  {
   "cell_type": "markdown",
   "metadata": {},
   "source": [
    "# Using Selenium in Chrome to scrape relevant charity data from charitydata.ca (collected from T3010s submitted to the CRA) "
   ]
  },
  {
   "cell_type": "code",
   "execution_count": 29,
   "metadata": {},
   "outputs": [],
   "source": [
    "#importing required libraries and setting the driver path\n",
    "import pandas as pd\n",
    "from selenium import webdriver\n",
    "from selenium.webdriver.common.keys import Keys\n",
    "from selenium.webdriver.common.by import By\n",
    "from selenium.webdriver.support.ui import WebDriverWait\n",
    "from selenium.webdriver.support import expected_conditions as EC\n",
    "from bs4 import BeautifulSoup\n",
    "\n",
    "\n",
    "driver_path = \"C:/Users/16475/Documents/GitHub/CharityVizApp/chromedriver.exe\"\n",
    "driver = webdriver.Chrome(executable_path=driver_path)"
   ]
  },
  {
   "cell_type": "code",
   "execution_count": 30,
   "metadata": {},
   "outputs": [
    {
     "name": "stdout",
     "output_type": "stream",
     "text": [
      "done\n"
     ]
    }
   ],
   "source": [
    "#script for going to charitydata.ca and parsing data into a dataframe\n",
    "\n",
    "#open index with all charities\n",
    "base_url = \"https://www.charitydata.ca/index/\"\n",
    "driver.get(base_url)\n",
    "\n",
    "f = open(\"urls.txt\",\"w\")\n",
    "\n",
    "# list of urls that should be excluded\n",
    "exclusions = open(\"url exclusions.txt\").read().splitlines()\n",
    "\n",
    "#compile list of charity urls (each url page has that charities information)\n",
    "#there are 3364 pages of charity urls so this is the number of iterations\n",
    "for i in range(2,5):\n",
    "    #the 'a' tag is given to each URL in the HTML source, find all the tags\n",
    "    link_objects = driver.find_elements_by_tag_name(\"a\")\n",
    "    \n",
    "    #the href attribute pulls just the URL, instead of the all associated HTML syntax elements\n",
    "    for x in link_objects: \n",
    "       if x.get_attribute(\"href\") not in exclusions and len(x.get_attribute(\"href\"))>0:\n",
    "        f.write(x.get_attribute(\"href\") + \"\\n\")\n",
    "    \n",
    "    driver.get(base_url + str(i))\n",
    "\n",
    "f.close()\n",
    "print(\"done\")\n"
   ]
  }
 ],
 "metadata": {
  "kernelspec": {
   "display_name": "Python 3",
   "language": "python",
   "name": "python3"
  },
  "language_info": {
   "codemirror_mode": {
    "name": "ipython",
    "version": 3
   },
   "file_extension": ".py",
   "mimetype": "text/x-python",
   "name": "python",
   "nbconvert_exporter": "python",
   "pygments_lexer": "ipython3",
   "version": "3.8.5"
  }
 },
 "nbformat": 4,
 "nbformat_minor": 4
}
