{
 "cells": [
  {
   "cell_type": "markdown",
   "metadata": {},
   "source": [
    "# Using Selenium in Chrome to scrape relevant charity data from charitydata.ca (collected from T3010s submitted to the CRA) "
   ]
  },
  {
   "cell_type": "code",
   "execution_count": 55,
   "metadata": {},
   "outputs": [],
   "source": [
    "#importing required libraries and setting the driver path\n",
    "import pandas as pd\n",
    "from selenium import webdriver\n",
    "from selenium.webdriver.common.keys import Keys\n",
    "from selenium.webdriver.common.by import By\n",
    "from selenium.webdriver.support.ui import WebDriverWait\n",
    "from selenium.webdriver.support import expected_conditions as EC\n",
    "from bs4 import BeautifulSoup\n",
    "\n",
    "\n",
    "driver_path = \"C:/Users/16475/Documents/GitHub/CharityVizApp/chromedriver.exe\"\n",
    "driver = webdriver.Chrome(executable_path=driver_path)"
   ]
  },
  {
   "cell_type": "code",
   "execution_count": 56,
   "metadata": {},
   "outputs": [
    {
     "name": "stdout",
     "output_type": "stream",
     "text": [
      "\n",
      "\n",
      "Director Search\n",
      "Advanced Charity Search\n",
      "\"BETHESDA\" ROMANIAN CHURCH OF GOD\n",
      "We hold weekly meetings for instruction/study of the scripture.We hold weekly meetings for prayer and christian worship.We suport mission projects and disaster relief.We are involve in the community by providing support to families and individuals.We provide support for divorced men and women through pastoral counselling and ocassional shelter and meals.We provide pastoral care.\n",
      "\"CAFÉ COMMUNAUTAIRE L'ENTRE-GENS\" DE SAINTE-ADÈLE,COMTÉ ROUSSEAU\n",
      "VENIR EN AIDE AUX PERSONNES DANS LE BESOIN, SENSIBILISER ET SUPPORTER LE RÉSEAU DE CES PERSONNES.\n",
      "\"CAMP COURAGE\" THE FIRST RESPONDER'S SOCIETY\n",
      "\"Camp Courage\", The First Responders Society is a non-profit organization established by firefighterAndrea Speranza, incorporated in May 2006 and became a registered Charity in 2007. The Society wasformed for the purpose of introducing young women aged 15-19 to careers as first responders,primarily paramedics, police officers and firefighters. The camp is aimed at providing information,education, inspiration and opportunities to experience the physical demands, thereby allowing a moreaccurate perception of what it takes to act in these roles.\n",
      "\"CHANTS LIBRES\" COMPAGNIE LYRIQUE DE CRÉATION\n",
      "Organisme de création et pruduction en opéra contemmporain.\n",
      "\"DIASOL\"\n",
      "La Photo Scolaire : L'atelier est offert dans les institutions scolaires de Montréal. Il offre aux enfants la possibilité d'expérimenter la technique du portrait professionnel. Cette année les ateliers de portraits ont été offert à l'école Arc-en Ciel et au Pied de la Montagne. Les Fenêtres qui parlent : Exposition dans les fenêtres des résidents de la rue Marquette d'oeuvres d'artiste jumelés avec les résidents. L'événement a eu lieu durant les journées de la culture du 29 au 2 septembre 2016.\n",
      "Médiation Culturelle avec l'organisme communautaire L'Echo des femmes de Rosemont : Le projet de médiation Cartographier son milieu de vie a été réalisé par Lucie ... avec L'Écho des Femmes de la Petite Patrie, il se terminera avec une exposition d'une murale.\n",
      "\"DON'T TOUCH\" EXPLOSIVES SAFETY SOCIETY\n",
      "Continuing distribution of educational material and training.\n",
      "\"ELVES\" CLUB\n",
      "FOOD HAMPERS PROVIDED TO NEEDY FAMILIES AT CHRISTMAS\n",
      "\"FAMILLE NOUVELLE\" CENTRE D'ENTRAIDE CONJUGAL ET FAMILIAL\n",
      "Services de relation d'aide à des individus, couples et familles qui vivnet sous le seuil de pauvreté tel qu'établi par Statistiques Canada et qui ont des problèmes de toxicomanie, deuil, comportement suicidaire, inceste, viol, dépression et autres du même genre.\n",
      "\"FE VIVA\" WORLD MISSIONS\n",
      "MINISTERING & PREACHING GOSPEL IN VARIOUS CHURCHES - COLLECTING AND GIVING AID TO THE POOR IN CENTRAL AMERICA, AND AFRICA, AS WELL AS CHURCH PLANTING AND BUILDING CHILDRENS HOMES\n",
      "\"FONDATION DU CINQUIEME\"\n",
      "Venir en aide aux membres et anciens membres du 5e RALC et promouvoir la cohésion régimentaire\n",
      "\"GRACHANICA\" SERBIAN EASTERN ORTHODOX CHURCH, CONGREGATION OF WINDSOR, ONTARIO, CANADA\n",
      "The Church Provides A Place of Worship for the Serbian Community.\n",
      "\"GRANDIR\" ENSEMBLE\n",
      "L'organisme tiens des séries de rencontre pour aider à vivre les étapes du deuil. Chaque groupe est distinct: parents ayant perdus un enfant, groupe de conjoints et groupe enfants et adultes ayant perdus un être cher.\n",
      "\"GREFFE-TOI À NOUS\"\n",
      "Soutien aux familles de greffés ou en attente d'une greffe.\n",
      "\"IGLESIA NI CRISTO\" CHURCH OF CHRIST, MANITOBA INC.\n",
      "HOLD WORSHIP SERVICE WEEKLY, WEDNESDAY, THURSDAY, SATURDAY & SUNDAY. HOLD BIBLE STUDY AT THE CHAPEL. HOLD BIBLE EXPOSITION WHERE NON MEMBERS ARE WELCOME TO ATTEND AND LISTEN TO THE WORDS OF GOD. CONDUCT SEMINARS & COUNSELLING ON FAMILY MATTERS, HUMAN RELATIONSHIP & ETC.HOLD VISITATION TO ALL MEMBERS TO ENSURE PHYSICAL WELL BEING OF MEMBERS.\n",
      "Hold INC Giving Projects - give donations to towns/cities/country affected by calamities/natural disasters such as floods and earthquake\n",
      "\"KSAN HOUSE SOCIETY\n",
      "Terrace Emergency Shelter: short term shelter to the homeless Terrace Transition House: short term shelter to women and children fleeing abuse Sexual Assault Centre: Counseling and public awareness events Stop Violence Against Women: counseling and public awareness events Mental Health: manage three housing units for mental health patients Skeena Kalum Housing Society: provision of caretaker, project manager and administrative services Outreach from Terrace Emergency Shelter Children who Witness Abuse: counseling Women's Outreach: for women and children suffering abuse Supportive recovery: shelter for recovering substance abuse and or mental health issues individuals Mountainview Apartments: subsidized low income housing Homeless prevention program: housing assistance for those who would otherwise lose their accomodations\n",
      "\"L'APOGÉE\" ASSOCIATION POUR PARENTS ET AMIS DE LA PERSONNE AYANT UN PROBLÈME DE SANTÉ MENTALE\n",
      "Service d'aide et de soutien aux familles et amis d'une personne ayant un problème de santé mentale\n",
      "\"L'EAU-VENT\" (MAISON DE JEUNES)\n",
      "ORGANISER DES ACTIVITES A CARACTERES \"LOISIR & EDUCATIF\" POUR LES JEUNES.\n",
      "\"LA CHRYSALIDE\", CENTRE D'ACCOMPAGNEMENT AUX FAMILLES MONOPARENTALES\n",
      "L'organisme vient en aux familles monoparentales en leur offrant des longements à prix modique. Il offre également des activités cliniques permettant aux parents et aux enfants de se rapprocher et de développer leurs aptitudes.\n",
      "\"LA MAISON DES ENFANTS\" DE L'ÎLE DE MONTRÉAL\n",
      "Accueil,écoute et présence auprès des 5-12 ans Prévention chez les 11-12 ans Accueil des groupes-classe Courrier des enfants Accueil des parents Écoute en classe\n",
      "\"LA QEHILLA\", ECOLE DE LA FOI DE MONTREAL INC\n",
      "\"LA SOURCE\" ASSOCIATION DES PERSONNES HANDICAPEES DU HAUT SAINT-MAURICE INC.\n",
      "Sortir les personnes handicapées de leur isolement. Promouvoir et défendre les droits de ces personnes. Favoriser leur réinsertion sociale.\n",
      "\"LE CHENAIL\" INC.\n",
      "\"LE CORPS INDICE\" PRODUCTIONS ARTISTIQUES\n",
      "LA PRINCIPALE ACTIVITÉ DE L'ORGANISME EST DE PRÉSENTER DES SPECTACLES DE DANSE DANS LESQUELS ON A INTÉGRÉ DES DES ASPECTS MULTI-MÉDIA SONT INTÉGRÉS. CES SPECTACLES SONT PRÉSENTÉS PARTOUT AU CANADA ET À L'EXTÉRIEUR DU CANADA\n",
      "\"LE PETIT BONHEUR\" DE ST-CAMILLE INC\n",
      "DIFFUSION DE SPECTACLES, ANIMATION COMMUNAUTAIRE, PRESENTATION D'EXPOSITION D'ART, FORMATION DU DOMAINE DE LA CULTURE, ANIMATION DU CENTRE D'INTERPRETATION DU MILIEU RURAL, ACTIVITES D'AUTOFINANCEMENT PAR LA PRODUCTION ET LA VENTE AU DETAILS DE PIZZAS.\n",
      "\"LIF\" LIFE INTERNATIONAL FOUNDATION INC.\n",
      "As a private foundation, channelling finances to other not-for-profit charities registered in Canada. Raising money for mission projects in Haiti.\n",
      "1\n",
      "2\n",
      "3\n",
      "4\n",
      "5\n",
      "6\n",
      "7\n",
      "8\n",
      "9\n",
      "10\n",
      "Last\n",
      "\n",
      "About\n",
      "Terms\n",
      "FAQs\n",
      "Charity Search\n",
      "Director Search\n",
      "All Charities\n",
      "disclaimer\n",
      "canadiancharitylaw.ca\n",
      "smartgiving.ca\n",
      "Blumberg Segal LLP\n",
      "The Wire\n"
     ]
    }
   ],
   "source": [
    "#script for going to charitydata.ca and parsing data into a dataframe\n",
    "\n",
    "#open index with all charities\n",
    "base_url = \"https://www.charitydata.ca/index/\"\n",
    "driver.get(base_url)\n",
    "\n",
    "#compile list of charity urls (each url page has that charities information)\n",
    "#there are 3364 pages of charity urls so this is the number of iterations\n",
    "#driver.find_elements_by_class_name(\"results\")\n",
    "\n",
    "#for i = 1 to 3364\n",
    "link_objects = driver.find_elements_by_tag_name('a')\n",
    "link_text = []\n",
    "\n",
    "for x in link_objects: \n",
    "    print(x.text)\n",
    "\n"
   ]
  },
  {
   "cell_type": "code",
   "execution_count": null,
   "metadata": {},
   "outputs": [],
   "source": []
  }
 ],
 "metadata": {
  "kernelspec": {
   "display_name": "Python 3",
   "language": "python",
   "name": "python3"
  },
  "language_info": {
   "codemirror_mode": {
    "name": "ipython",
    "version": 3
   },
   "file_extension": ".py",
   "mimetype": "text/x-python",
   "name": "python",
   "nbconvert_exporter": "python",
   "pygments_lexer": "ipython3",
   "version": "3.8.5"
  }
 },
 "nbformat": 4,
 "nbformat_minor": 4
}
