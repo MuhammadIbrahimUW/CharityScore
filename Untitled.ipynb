{
 "cells": [
  {
   "cell_type": "markdown",
   "metadata": {},
   "source": [
    "Scoring Algorithm (based on most recent reporting year)"
   ]
  },
  {
   "cell_type": "code",
   "execution_count": 2,
   "metadata": {},
   "outputs": [
    {
     "name": "stdout",
     "output_type": "stream",
     "text": [
      "                                                 URL  \\\n",
      "0  https://www.charitydata.ca/charity/full-name/0...   \n",
      "1  https://www.charitydata.ca/charity/bethesda-ro...   \n",
      "2  https://www.charitydata.ca/charity/cafe-commun...   \n",
      "3  https://www.charitydata.ca/charity/camp-courag...   \n",
      "4  https://www.charitydata.ca/charity/chants-libr...   \n",
      "\n",
      "                                                Name              BRN  \\\n",
      "0                                          full name                1   \n",
      "1                    bethesda romanian church of god  875769515RR0001   \n",
      "2  cafe communautaire lentre gens de sainte adele...  892458076RR0001   \n",
      "3          camp courage the first responders society  858394364RR0001   \n",
      "4        chants libres compagnie lyrique de creation  140382375RR0001   \n",
      "\n",
      "                                       Expense Table  Reporting Year  \\\n",
      "0                                                NaN             NaN   \n",
      "1  {'Expenditures by 6 Groups': [2020, 2019, 2018...          2020.0   \n",
      "2  {'Expenditures by 6 Groups': [2020, 2019, 2018...          2020.0   \n",
      "3  {'Expenditures by 6 Groups': [2019, 2018, 2017...          2019.0   \n",
      "4  {'Expenditures by 6 Groups': [2020, 2019, 2018...          2020.0   \n",
      "\n",
      "   Total Expenditure  Total Expenditure on Charitable Activities  \\\n",
      "0                NaN                                         NaN   \n",
      "1            77309.0                                     75367.0   \n",
      "2           384979.0                                    341365.0   \n",
      "3            25277.0                                     23154.0   \n",
      "4           235640.0                                    149745.0   \n",
      "\n",
      "   Total Expenditure on Management and Administration  \\\n",
      "0                                                NaN    \n",
      "1                                             1895.0    \n",
      "2                                            43614.0    \n",
      "3                                             2123.0    \n",
      "4                                            80493.0    \n",
      "\n",
      "   Total Expenditures on Fundraising  \\\n",
      "0                                NaN   \n",
      "1                                0.0   \n",
      "2                                0.0   \n",
      "3                                0.0   \n",
      "4                             5402.0   \n",
      "\n",
      "   Total Expenditures on Political Activities  Total Other Expenditures   \\\n",
      "0                                         NaN                        NaN   \n",
      "1                                         0.0                        0.0   \n",
      "2                                         0.0                        0.0   \n",
      "3                                         0.0                        0.0   \n",
      "4                                         0.0                        0.0   \n",
      "\n",
      "   Total Amount of Gifts Made to All Qualified Donees  \n",
      "0                                                NaN   \n",
      "1                                                0.0   \n",
      "2                                                0.0   \n",
      "3                                                0.0   \n",
      "4                                                0.0   \n"
     ]
    },
    {
     "name": "stderr",
     "output_type": "stream",
     "text": [
      "C:\\ProgramData\\Anaconda3\\lib\\site-packages\\IPython\\core\\interactiveshell.py:3146: DtypeWarning: Columns (4) have mixed types.Specify dtype option on import or set low_memory=False.\n",
      "  has_raised = await self.run_ast_nodes(code_ast.body, cell_name,\n"
     ]
    }
   ],
   "source": [
    "import pandas as pd\n",
    "import numpy as np\n",
    "import matplotlib.pyplot as plt\n",
    "\n",
    "# import the data from the dataframe\n",
    "df = pd.read_csv(\"expense data calcs.csv\").drop(['Unnamed: 0'],axis=1)\n",
    "\n",
    "# create"
   ]
  }
 ],
 "metadata": {
  "kernelspec": {
   "display_name": "Python 3",
   "language": "python",
   "name": "python3"
  },
  "language_info": {
   "codemirror_mode": {
    "name": "ipython",
    "version": 3
   },
   "file_extension": ".py",
   "mimetype": "text/x-python",
   "name": "python",
   "nbconvert_exporter": "python",
   "pygments_lexer": "ipython3",
   "version": "3.8.5"
  }
 },
 "nbformat": 4,
 "nbformat_minor": 4
}
